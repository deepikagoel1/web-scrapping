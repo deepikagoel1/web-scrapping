{
 "cells": [
  {
   "cell_type": "code",
   "execution_count": 1,
   "metadata": {},
   "outputs": [],
   "source": [
    "#Begin by importing the Requests module:\n",
    "\n",
    "import requests"
   ]
  },
  {
   "cell_type": "code",
   "execution_count": 2,
   "metadata": {},
   "outputs": [],
   "source": [
    "#Now, let’s try to get a webpage. For this example, let’s get GitHub’s public timeline:\n",
    "\n",
    "r = requests.get('https://developer.nrel.gov/api/alt-fuel-stations/v1.json?fuel_type=E85,ELEC&state=CA&limit=2&api_key=2PdzhAnGKzdtYvPjiXFfzVvpbQwwvjfO2vbqc1bH')"
   ]
  },
  {
   "cell_type": "code",
   "execution_count": 3,
   "metadata": {},
   "outputs": [
    {
     "data": {
      "text/plain": [
       "200"
      ]
     },
     "execution_count": 3,
     "metadata": {},
     "output_type": "execute_result"
    }
   ],
   "source": [
    "#Get the status code...returns an integer on success\n",
    "\n",
    "r.status_code"
   ]
  },
  {
   "cell_type": "code",
   "execution_count": 4,
   "metadata": {},
   "outputs": [
    {
     "data": {
      "text/plain": [
       "'{\"station_locator_url\":\"https://afdc.energy.gov/stations/\",\"total_results\":13810,\"station_counts\":{\"total\":38333,\"fuels\":{\"BD\":{\"total\":0},\"E85\":{\"total\":217},\"ELEC\":{\"total\":38116,\"stations\":{\"total\":13593}},\"HY\":{\"total\":0},\"LNG\":{\"total\":0},\"CNG\":{\"total\":0},\"LPG\":{\"total\":0}}},\"fuel_stations\":[{\"access_code\":\"private\",\"access_days_time\":\"Fleet use only\",\"access_detail_code\":null,\"cards_accepted\":null,\"date_last_confirmed\":\"2020-09-03\",\"expected_date\":null,\"fuel_type_code\":\"ELEC\",\"groups_with_access_code\":\"Private\",\"id\":1517,\"open_date\":\"1999-10-15\",\"owner_type_code\":\"LG\",\"status_code\":\"E\",\"station_name\":\"LADWP - Truesdale Center\",\"station_phone\":null,\"updated_at\":\"2021-03-29T02:41:38Z\",\"facility_type\":\"UTILITY\",\"geocode_status\":\"GPS\",\"latitude\":34.2483191527193,\"longitude\":-118.3879713743439,\"city\":\"Sun Valley\",\"intersection_directions\":null,\"plus4\":null,\"state\":\"CA\",\"street_address\":\"11797 Truesdale St\",\"zip\":\"91352\",\"country\":\"US\",\"bd_blends\":null,\"cng_dispenser_num\":null,\"cng_fill_type_code\":null,\"cng_psi\":null,\"cng_renewable_source\":null,\"cng_total_compression\":null,\"cng_total_storage\":null,\"cng_vehicle_class\":null,\"e85_blender_pump\":null,\"e85_other_ethanol_blends\":null,\"ev_connector_types\":[\"CHADEMO\",\"J1772\",\"J1772COMBO\"],\"ev_dc_fast_num\":2,\"ev_level1_evse_num\":null,\"ev_level2_evse_num\":40,\"ev_network\":\"Non-Networked\",\"ev_network_web\":null,\"ev_other_evse\":null,\"ev_pricing\":null,\"ev_renewable_source\":null,\"hy_is_retail\":null,\"hy_pressures\":null,\"hy_standards\":null,\"hy_status_link\":null,\"lng_renewable_source\":null,\"lng_vehicle_class\":null,\"lpg_primary\":null,\"lpg_nozzle_types\":null,\"ng_fill_type_code\":null,\"ng_psi\":null,\"ng_vehicle_class\":null,\"access_days_time_fr\":null,\"intersection_directions_fr\":null,\"bd_blends_fr\":null,\"groups_with_access_code_fr\":\"Privé\",\"ev_pricing_fr\":null},{\"access_code\":\"private\",\"access_days_time\":\"Employee use only\",\"access_detail_code\":null,\"cards_accepted\":null,\"date_last_confirmed\":\"2021-01-14\",\"expected_date\":null,\"fuel_type_code\":\"ELEC\",\"groups_with_access_code\":\"TEMPORARILY UNAVAILABLE (Private)\",\"id\":1520,\"open_date\":null,\"owner_type_code\":\"T\",\"status_code\":\"T\",\"station_name\":\"Southern California Edison - Rosemead Office Building 1\",\"station_phone\":null,\"updated_at\":\"2021-03-11T23:22:17Z\",\"facility_type\":\"UTILITY\",\"geocode_status\":\"200-9\",\"latitude\":34.050745,\"longitude\":-118.081014,\"city\":\"Rosemead\",\"intersection_directions\":null,\"plus4\":null,\"state\":\"CA\",\"street_address\":\"2244 Walnut Grove Ave\",\"zip\":\"91770\",\"country\":\"US\",\"bd_blends\":null,\"cng_dispenser_num\":null,\"cng_fill_type_code\":null,\"cng_psi\":null,\"cng_renewable_source\":null,\"cng_total_compression\":null,\"cng_total_storage\":null,\"cng_vehicle_class\":null,\"e85_blender_pump\":null,\"e85_other_ethanol_blends\":null,\"ev_connector_types\":[\"J1772\",\"NEMA520\"],\"ev_dc_fast_num\":null,\"ev_level1_evse_num\":22,\"ev_level2_evse_num\":22,\"ev_network\":\"Greenlots\",\"ev_network_web\":\"http://greenlots.com/\",\"ev_other_evse\":null,\"ev_pricing\":null,\"ev_renewable_source\":null,\"hy_is_retail\":null,\"hy_pressures\":null,\"hy_standards\":null,\"hy_status_link\":null,\"lng_renewable_source\":null,\"lng_vehicle_class\":null,\"lpg_primary\":null,\"lpg_nozzle_types\":null,\"ng_fill_type_code\":null,\"ng_psi\":null,\"ng_vehicle_class\":null,\"access_days_time_fr\":null,\"intersection_directions_fr\":null,\"bd_blends_fr\":null,\"groups_with_access_code_fr\":\"TEMPORAIREMENT SUSPENDU (Privé)\",\"ev_pricing_fr\":null}]}'"
      ]
     },
     "execution_count": 4,
     "metadata": {},
     "output_type": "execute_result"
    }
   ],
   "source": [
    "#Get the data\n",
    "\n",
    "r.text"
   ]
  },
  {
   "cell_type": "code",
   "execution_count": 6,
   "metadata": {},
   "outputs": [
    {
     "data": {
      "text/plain": [
       "{'station_locator_url': 'https://afdc.energy.gov/stations/',\n",
       " 'total_results': 13810,\n",
       " 'station_counts': {'total': 38333,\n",
       "  'fuels': {'BD': {'total': 0},\n",
       "   'E85': {'total': 217},\n",
       "   'ELEC': {'total': 38116, 'stations': {'total': 13593}},\n",
       "   'HY': {'total': 0},\n",
       "   'LNG': {'total': 0},\n",
       "   'CNG': {'total': 0},\n",
       "   'LPG': {'total': 0}}},\n",
       " 'fuel_stations': [{'access_code': 'private',\n",
       "   'access_days_time': 'Fleet use only',\n",
       "   'access_detail_code': None,\n",
       "   'cards_accepted': None,\n",
       "   'date_last_confirmed': '2020-09-03',\n",
       "   'expected_date': None,\n",
       "   'fuel_type_code': 'ELEC',\n",
       "   'groups_with_access_code': 'Private',\n",
       "   'id': 1517,\n",
       "   'open_date': '1999-10-15',\n",
       "   'owner_type_code': 'LG',\n",
       "   'status_code': 'E',\n",
       "   'station_name': 'LADWP - Truesdale Center',\n",
       "   'station_phone': None,\n",
       "   'updated_at': '2021-03-29T02:41:38Z',\n",
       "   'facility_type': 'UTILITY',\n",
       "   'geocode_status': 'GPS',\n",
       "   'latitude': 34.2483191527193,\n",
       "   'longitude': -118.3879713743439,\n",
       "   'city': 'Sun Valley',\n",
       "   'intersection_directions': None,\n",
       "   'plus4': None,\n",
       "   'state': 'CA',\n",
       "   'street_address': '11797 Truesdale St',\n",
       "   'zip': '91352',\n",
       "   'country': 'US',\n",
       "   'bd_blends': None,\n",
       "   'cng_dispenser_num': None,\n",
       "   'cng_fill_type_code': None,\n",
       "   'cng_psi': None,\n",
       "   'cng_renewable_source': None,\n",
       "   'cng_total_compression': None,\n",
       "   'cng_total_storage': None,\n",
       "   'cng_vehicle_class': None,\n",
       "   'e85_blender_pump': None,\n",
       "   'e85_other_ethanol_blends': None,\n",
       "   'ev_connector_types': ['CHADEMO', 'J1772', 'J1772COMBO'],\n",
       "   'ev_dc_fast_num': 2,\n",
       "   'ev_level1_evse_num': None,\n",
       "   'ev_level2_evse_num': 40,\n",
       "   'ev_network': 'Non-Networked',\n",
       "   'ev_network_web': None,\n",
       "   'ev_other_evse': None,\n",
       "   'ev_pricing': None,\n",
       "   'ev_renewable_source': None,\n",
       "   'hy_is_retail': None,\n",
       "   'hy_pressures': None,\n",
       "   'hy_standards': None,\n",
       "   'hy_status_link': None,\n",
       "   'lng_renewable_source': None,\n",
       "   'lng_vehicle_class': None,\n",
       "   'lpg_primary': None,\n",
       "   'lpg_nozzle_types': None,\n",
       "   'ng_fill_type_code': None,\n",
       "   'ng_psi': None,\n",
       "   'ng_vehicle_class': None,\n",
       "   'access_days_time_fr': None,\n",
       "   'intersection_directions_fr': None,\n",
       "   'bd_blends_fr': None,\n",
       "   'groups_with_access_code_fr': 'Privé',\n",
       "   'ev_pricing_fr': None},\n",
       "  {'access_code': 'private',\n",
       "   'access_days_time': 'Employee use only',\n",
       "   'access_detail_code': None,\n",
       "   'cards_accepted': None,\n",
       "   'date_last_confirmed': '2021-01-14',\n",
       "   'expected_date': None,\n",
       "   'fuel_type_code': 'ELEC',\n",
       "   'groups_with_access_code': 'TEMPORARILY UNAVAILABLE (Private)',\n",
       "   'id': 1520,\n",
       "   'open_date': None,\n",
       "   'owner_type_code': 'T',\n",
       "   'status_code': 'T',\n",
       "   'station_name': 'Southern California Edison - Rosemead Office Building 1',\n",
       "   'station_phone': None,\n",
       "   'updated_at': '2021-03-11T23:22:17Z',\n",
       "   'facility_type': 'UTILITY',\n",
       "   'geocode_status': '200-9',\n",
       "   'latitude': 34.050745,\n",
       "   'longitude': -118.081014,\n",
       "   'city': 'Rosemead',\n",
       "   'intersection_directions': None,\n",
       "   'plus4': None,\n",
       "   'state': 'CA',\n",
       "   'street_address': '2244 Walnut Grove Ave',\n",
       "   'zip': '91770',\n",
       "   'country': 'US',\n",
       "   'bd_blends': None,\n",
       "   'cng_dispenser_num': None,\n",
       "   'cng_fill_type_code': None,\n",
       "   'cng_psi': None,\n",
       "   'cng_renewable_source': None,\n",
       "   'cng_total_compression': None,\n",
       "   'cng_total_storage': None,\n",
       "   'cng_vehicle_class': None,\n",
       "   'e85_blender_pump': None,\n",
       "   'e85_other_ethanol_blends': None,\n",
       "   'ev_connector_types': ['J1772', 'NEMA520'],\n",
       "   'ev_dc_fast_num': None,\n",
       "   'ev_level1_evse_num': 22,\n",
       "   'ev_level2_evse_num': 22,\n",
       "   'ev_network': 'Greenlots',\n",
       "   'ev_network_web': 'http://greenlots.com/',\n",
       "   'ev_other_evse': None,\n",
       "   'ev_pricing': None,\n",
       "   'ev_renewable_source': None,\n",
       "   'hy_is_retail': None,\n",
       "   'hy_pressures': None,\n",
       "   'hy_standards': None,\n",
       "   'hy_status_link': None,\n",
       "   'lng_renewable_source': None,\n",
       "   'lng_vehicle_class': None,\n",
       "   'lpg_primary': None,\n",
       "   'lpg_nozzle_types': None,\n",
       "   'ng_fill_type_code': None,\n",
       "   'ng_psi': None,\n",
       "   'ng_vehicle_class': None,\n",
       "   'access_days_time_fr': None,\n",
       "   'intersection_directions_fr': None,\n",
       "   'bd_blends_fr': None,\n",
       "   'groups_with_access_code_fr': 'TEMPORAIREMENT SUSPENDU (Privé)',\n",
       "   'ev_pricing_fr': None}]}"
      ]
     },
     "execution_count": 6,
     "metadata": {},
     "output_type": "execute_result"
    }
   ],
   "source": [
    "#Get the data in the json format\n",
    "\n",
    "r.json()"
   ]
  },
  {
   "cell_type": "code",
   "execution_count": null,
   "metadata": {},
   "outputs": [],
   "source": []
  }
 ],
 "metadata": {
  "kernelspec": {
   "display_name": "Python 3",
   "language": "python",
   "name": "python3"
  },
  "language_info": {
   "codemirror_mode": {
    "name": "ipython",
    "version": 3
   },
   "file_extension": ".py",
   "mimetype": "text/x-python",
   "name": "python",
   "nbconvert_exporter": "python",
   "pygments_lexer": "ipython3",
   "version": "3.8.5"
  }
 },
 "nbformat": 4,
 "nbformat_minor": 4
}
